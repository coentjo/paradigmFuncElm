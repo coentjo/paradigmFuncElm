{
 "cells": [
  {
   "cell_type": "markdown",
   "metadata": {},
   "source": [
    "# Records"
   ]
  },
  {
   "cell_type": "markdown",
   "metadata": {},
   "source": [
    "Een record is een verzameling van zogenaamde `key`/`value` pairs. De `key` is de naam van een eigenschap, de `value` is de waarde. Bekijk dit voorbeeld van een `record` met naam ‘person’: "
   ]
  },
  {
   "cell_type": "code",
   "execution_count": null,
   "metadata": {},
   "outputs": [],
   "source": [
    "person = { voornaam = \"Xavier\" , achternaam = \"Yolo\" , lengteInCm = \"186\" \\\n",
    " , geboorteJaar = 2003 , favorieteKleur = \"Red\" }"
   ]
  },
  {
   "cell_type": "markdown",
   "metadata": {},
   "source": [
    "Vervolgens kun je van dit record elke eigenschap opvragen, zoals bijvoorbeeld de voornaam: \n",
    "\n",
    "person.voornaam"
   ]
  },
  {
   "cell_type": "code",
   "execution_count": null,
   "metadata": {},
   "outputs": [],
   "source": []
  },
  {
   "cell_type": "markdown",
   "metadata": {},
   "source": [
    "of de lengte: \n",
    "\n",
    "person.lengteInCm"
   ]
  },
  {
   "cell_type": "code",
   "execution_count": null,
   "metadata": {},
   "outputs": [],
   "source": []
  },
  {
   "cell_type": "markdown",
   "metadata": {},
   "source": [
    "Een record is een verzameling van zogenaamde key/value pairs. De key is de naam van een eigenschap, de value is de waarde. Bekijk dit voorbeeld van een record met naam ‘person’:\n",
    "\n",
    "person = {\n",
    "voornaam = “Xavier”, achternaam = “Yolo”, lengteInCm = “186”, geboorteJaar = 2003, favorieteKleur = “Red” }\n",
    "\n",
    "Het opvragen van een eigenschap gaat via de naam van die eigenschap:\n"
   ]
  },
  {
   "cell_type": "code",
   "execution_count": null,
   "metadata": {},
   "outputs": [],
   "source": [
    "person.geboorteJaar"
   ]
  },
  {
   "cell_type": "markdown",
   "metadata": {},
   "source": [
    "Als je de waarde van een eigenschap wilt aanpassen maak je een nieuw record. Hierbij kun je aangeven dat je de waarden van 'person' overneemt, en vervolgens de waarden die afwijken los opsommen: \n",
    "\n",
    "person2 = { person | geboorteJaar = 2005 , favorieteKleur = \"Blue\" }"
   ]
  },
  {
   "cell_type": "code",
   "execution_count": null,
   "metadata": {},
   "outputs": [],
   "source": []
  },
  {
   "cell_type": "markdown",
   "metadata": {},
   "source": [
    "en je kunt de waarden van een record toekennen aan losse variabelen (dit heet Destructuring). "
   ]
  },
  {
   "cell_type": "markdown",
   "metadata": {},
   "source": [
    "In bijvoorbeeld de cheatsheet of de elm-tutorial (zie ‘bronnenlijst.ipynb’) kun je nog meer voorbeelden en mogelijkheden van records vinden."
   ]
  }
 ],
 "metadata": {
  "kernelspec": {
   "display_name": "Elm REPL",
   "language": "",
   "name": "defbu_elm_repl_kernel"
  },
  "language_info": {
   "codemirror_mode": "elm",
   "file_extension": ".elm",
   "mimetype": "text/x-elm",
   "name": "elm"
  }
 },
 "nbformat": 4,
 "nbformat_minor": 2
}
