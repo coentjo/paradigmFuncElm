{
 "cells": [
  {
   "cell_type": "markdown",
   "metadata": {},
   "source": [
    "Mogelijke oplossing voor 'Challenge abc'"
   ]
  },
  {
   "cell_type": "code",
   "execution_count": null,
   "metadata": {},
   "outputs": [],
   "source": [
    "wortelformule a b c = {x1 = (-1 * b + sqrt(b * b - 4 * a * c)) / (2 * a),x2 = (-\n",
    "1 * b - sqrt(b * b - 4 * a * c)) / (2 * a)}"
   ]
  },
  {
   "cell_type": "code",
   "execution_count": null,
   "metadata": {},
   "outputs": [],
   "source": [
    "wortelformule2 a b c = \\\n",
    "if (discriminant a b c) == 0 then {x1 = (-1 * b) / (2 * a), x2 = (-1 * b) / (2 *\n",
    "a)} \\\n",
    "else {x1 = (-1 * b + sqrt(b * b - 4 * a * c)) / (2 * a),x2 = (-1 * b - sqrt(b *\n",
    "b - 4 * a * c)) / (2 * a)}"
   ]
  }
 ],
 "metadata": {
  "kernelspec": {
   "display_name": "Elm",
   "language": "",
   "name": "defbu_elm_kernel"
  },
  "language_info": {
   "codemirror_mode": "elm",
   "file_extension": ".elm",
   "mimetype": "text/x-elm",
   "name": "elm"
  }
 },
 "nbformat": 4,
 "nbformat_minor": 2
}
