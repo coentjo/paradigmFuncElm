{
 "cells": [
  {
   "cell_type": "markdown",
   "metadata": {},
   "source": [
    "# Recursie in elm"
   ]
  },
  {
   "cell_type": "markdown",
   "metadata": {},
   "source": [
    "In het eerdere hoofdstuk over `Recursie` heb je al gelezen dat je met recursie een probleem kunt oplossen door het te verkleinen, of zelfs het hele probleem in kleinere (deel)problemen op te lossen. We gaan nu naar een paar voorbeelden in elm kijken. "
   ]
  },
  {
   "cell_type": "markdown",
   "metadata": {},
   "source": [
    "Stel je voor ik moet een moeilijke berekening 10x achter elkaar doen. Deze uitdaging/challenge kunnen we opsplitsen in 2 deel-challenges: Hoe kan ik 'iets' 10x doen? Hoe kan ik die moeilijke berekening 1x uitvoeren? Laten we even als simpel voorbeeld nemen het gooien met een dobbelsteen en stel we hebben een functie die 0 parameters verwacht en 1 uitkomst teruggeeft: gooiDobbelsteen()"
   ]
  },
  {
   "cell_type": "markdown",
   "metadata": {},
   "source": [
    "Hoe kunnen we er nu voor zorgen dat dit 10 keer gebeurt? Misschien heb je de volgende oplossing bedacht: "
   ]
  },
  {
   "cell_type": "markdown",
   "metadata": {},
   "source": [
    "gooiDobbelsteen()\n",
    "\n",
    "gooiDobbelsteen()\n",
    "\n",
    "gooiDobbelsteen()\n",
    "\n",
    "gooiDobbelsteen()\n",
    "\n",
    "gooiDobbelsteen()\n",
    "\n",
    "gooiDobbelsteen()\n",
    "\n",
    "gooiDobbelsteen()\n",
    "\n",
    "gooiDobbelsteen()\n",
    "\n",
    "gooiDobbelsteen()\n",
    "\n",
    "gooiDobbelsteen()\n",
    "\n",
    "gooiDobbelsteen()"
   ]
  },
  {
   "cell_type": "markdown",
   "metadata": {},
   "source": [
    "Leuk bedacht maar heeft een paar nadelen. Heb je bijvoorbeeld nageteld of het er wel 10 zijn? Verder kan dit bij 10 nog wel maar software moet vaak iets 100000 keer of nog vaker doen, dat werkt natuurlijk niet. Tot slot is het hoe vaak iets moet gebeuren vaak afhankelijk van een andere input... "
   ]
  },
  {
   "cell_type": "markdown",
   "metadata": {},
   "source": [
    "Enfin, terug naar recursiviteit: Als ik een functie heb die als parameter het getal '10' meekrijgt (hoe vaak het moet \n",
    "gebeuren), die 1x die actie uitvoert en vervolgens een functie zou kunnen aanroepen die (10 - 1)x ofwel 9x die actie\n",
    "uitvoert, heb ik de challenge van 'iets 10x doen' verkleind tot 'iets 9x doen'. Maar hee, het aantal keren dat het \n",
    "'iets' gedaan moest worden was de waarde van de parameter, dus als de functie zichzelf zou kunnen aanroepen met een \n",
    "parameter die 1 kleiner is zijn we (bijna) klaar: 'iets 9x doen' wordt dan namelijk verkleind tot 'iets 8x doen', \n",
    "en dat weer tot 'iets 7x doen', en zo verder tot we bij 1 of 0 zijn. "
   ]
  },
  {
   "cell_type": "markdown",
   "metadata": {},
   "source": [
    "Laten we eerst eens kijken of we dat voor elkaar krijgen met een functie die een aantal streepjes (letter 'I' moet neerzetten): \n",
    "\n",
    "repeat n = if n > 0 then \"I\" ++ repeat (n-1) else \"\""
   ]
  },
  {
   "cell_type": "code",
   "execution_count": null,
   "metadata": {},
   "outputs": [],
   "source": []
  },
  {
   "cell_type": "markdown",
   "metadata": {},
   "source": [
    "De functie verwacht een aantal (hierboven heet de parameter 'n' maar 'aantal' is misschien wel leesbaarder). We roepen de functie nu aan met parameter 3. Hij moet dus 3 streepjes zetten: \n",
    "\n",
    "repeat 3"
   ]
  },
  {
   "cell_type": "code",
   "execution_count": null,
   "metadata": {},
   "outputs": [],
   "source": []
  },
  {
   "cell_type": "markdown",
   "metadata": {},
   "source": [
    "Geloof nooit na 1 test dat een functie werkt, probeer het nog eens met parameter 8: \n",
    "\n",
    "repeat 8"
   ]
  },
  {
   "cell_type": "code",
   "execution_count": null,
   "metadata": {},
   "outputs": [],
   "source": []
  },
  {
   "cell_type": "markdown",
   "metadata": {},
   "source": [
    "Snap je hoe de functie werkt? "
   ]
  },
  {
   "cell_type": "markdown",
   "metadata": {},
   "source": [
    "Het geval n = 0 is trouwens wel een aparte, laten we die ook testen: er moeten dan dus 0 streepjes komen: \n",
    "\n",
    "repeat 0"
   ]
  },
  {
   "cell_type": "code",
   "execution_count": null,
   "metadata": {},
   "outputs": [],
   "source": []
  },
  {
   "cell_type": "markdown",
   "metadata": {},
   "source": [
    "Wat als we een negatief getal invoeren? Wat zou repeat(-2) doen? \n",
    "\n",
    "repeat -2"
   ]
  },
  {
   "cell_type": "code",
   "execution_count": null,
   "metadata": {},
   "outputs": [],
   "source": []
  },
  {
   "cell_type": "markdown",
   "metadata": {},
   "source": [
    "## Recursie op een List"
   ]
  },
  {
   "cell_type": "markdown",
   "metadata": {},
   "source": [
    "Bij sommige types werken recursieve functies heel handig. Voorbeelden zijn een 'List' of een zogenaamde 'Tree'. Als je bijvoorbeeld de 'lengte' (aantal elementen) van een List wilt weten kun je dat doen door middel van een functie 'lengte' dat een zogenaamd 'case'-statement gebruikt. We kunnen dan gebruik maken van het feit dat een List leeg is of van de vorm `kopElement gevolgd door een List`. De `case of` constructie in elm kan herkennen of een List leeg is of dus een element gevolgd door een List. Hieronder zie je een voorbeeld `case` statement: de [] staat voor de lege List, in het geval `firstElement :: restOfList` kun je in de code achter de pijl `->` de namen `firstElement` en `restOfList` gebruiken en elm. \n",
    "(de namen 'firstElement' en 'restOfList' mag je zelf kiezen)\n",
    "\n",
    "`lengte list =   \\\n",
    "\n",
    "  case list of \\\n",
    "  \n",
    "  []  ->  0  \\\n",
    "  \n",
    "  firstElement :: restOfList  -> ( 1 + (lengte restOfList ) )`\n",
    "  \n",
    "(net als eerder moet je bij het kopiëren de lege tussenregel weghalen). "
   ]
  },
  {
   "cell_type": "code",
   "execution_count": null,
   "metadata": {},
   "outputs": [],
   "source": []
  },
  {
   "cell_type": "markdown",
   "metadata": {},
   "source": [
    "De 'backslashes'aan het eind van de regels geven aan dat de code op de volgende regel er ook nog bij hoort. "
   ]
  },
  {
   "cell_type": "markdown",
   "metadata": {},
   "source": [
    "Stel je hebt een String en je wilt met elke letter van die String 'iets' doen. Daarvoor kun je de String-functie 'toList' gebruiken: \n",
    "\n",
    "String.toList \"abc\""
   ]
  },
  {
   "cell_type": "code",
   "execution_count": null,
   "metadata": {},
   "outputs": [],
   "source": []
  },
  {
   "cell_type": "markdown",
   "metadata": {},
   "source": [
    "Merk op dat de losse karakters tussen andere quotes staan dan bij een String gebruikt worden: hiermee wordt aangegeven dat het 1 los karakter 'Char' betreft, terwijl Strings (doorgaans) niet lengte 1 hebben. "
   ]
  },
  {
   "cell_type": "markdown",
   "metadata": {},
   "source": [
    "We gaan nu kijken naar een zogenaamde 'Dictionary', een constructie die in veel programmeertalen voorkomt (in sommige talen heet het een 'Map'). Een Dictionary is een collectie van zogenaamde 'key-value'-pairs. Neem als voorbeeld een Nederlands woordenboek: hierin zitten 'keys' waarop je snel kunt zoeken, dat zijn de woorden. Bij elk woord hoort een 'value': de omschrijving van dat woord. Op de omschrijving zoeken gaat niet handig: dan begin je op een pagina en sla je elke keer een pagina om totdat je de omschrijving hebt gevonden. Een telefoonboek is ook een Dictionary: als je op naam (de key) zoekt vind je snel het bijbehorende telefoonnummer, maar als je een telefoonnummer hebt en de naam erbij wilt zoeken ben je lang bezig (bij een papieren telefoonboek tenminste). \n",
    "Als je snel 2 kanten op wilt heb je 2 Dictionaries nodig: als voorbeeld kun je denken aan een Nederlands-Frans woordenboek en voor de andere richting een Frans-Nederlands woordenboek. Google op 'elm Dictionary' voor meer kennis over Dictionary in elm. "
   ]
  },
  {
   "cell_type": "markdown",
   "metadata": {},
   "source": [
    "Als voorbeeld maken we een Dictionary die als keys de letters (als Char) van het alfabet heeft en als values de morse-code (als String) die bij die letter hoort: \n",
    "\n",
    "import Dict"
   ]
  },
  {
   "cell_type": "code",
   "execution_count": null,
   "metadata": {},
   "outputs": [],
   "source": []
  },
  {
   "cell_type": "markdown",
   "metadata": {},
   "source": [
    "en daarna: \n",
    "\n",
    "Dict.fromList [ ('a' , \".-\") , ('b',\"-...\") , ('c', \"-.-.\") , ('e',\".\") , ('l',\".-..\"), ('m', \"--\")]"
   ]
  },
  {
   "cell_type": "code",
   "execution_count": null,
   "metadata": {},
   "outputs": [],
   "source": []
  },
  {
   "cell_type": "markdown",
   "metadata": {},
   "source": [
    "De eerste regel is nodig zodat elm weet dat je de code die al geprogrammeerd is in 'Dict' wilt gebruiken. Anders zouden we alles elke keer opnieuw moeten programmeren. \n",
    "\n",
    "Hierboven staan maar een paar letters gegeven, zoek zelf de Morse code voor de overige letters op. Sla het resultaat met behulp van 'morseAlfabet = ...' op in de variabele morseAlfabet (let dus op dat je geen tikfouten maakt!). Met de functie 'Dict.keys' kun je opvragen welke keys er in de Dictionary zitten. Als je het hele alfabet erin verwerkt zal het niet meer op een regel passen, gelukkig heb je eerder al gezien hoe je je code op een volgende regel door kunt laten gaan!\n",
    "\n",
    "morseAlfabet = Dict.fromList [ ('a' , \".-\") , ('b',\"-...\") , ('c', \"-.-.\") , ('e',\".\") , ('l',\".-..\"), ('m', \"--\")]"
   ]
  },
  {
   "cell_type": "code",
   "execution_count": null,
   "metadata": {},
   "outputs": [],
   "source": []
  },
  {
   "cell_type": "markdown",
   "metadata": {},
   "source": [
    "Dict.keys morseAlfabet"
   ]
  },
  {
   "cell_type": "code",
   "execution_count": null,
   "metadata": {},
   "outputs": [],
   "source": []
  },
  {
   "cell_type": "markdown",
   "metadata": {},
   "source": [
    "Dict.values morseAlfabet"
   ]
  },
  {
   "cell_type": "code",
   "execution_count": null,
   "metadata": {},
   "outputs": [],
   "source": []
  },
  {
   "cell_type": "markdown",
   "metadata": {},
   "source": [
    "geeft daarentegen de 'values' (dus de morse-codes). De morse-vertaling van een Char kun je krijgen met de functie 'Dict.get': \n",
    "\n",
    "Dict.get 'a' morseAlfabet"
   ]
  },
  {
   "cell_type": "code",
   "execution_count": null,
   "metadata": {},
   "outputs": [],
   "source": []
  },
  {
   "cell_type": "markdown",
   "metadata": {},
   "source": [
    "Dit geeft iets terug wat door elm als 'Maybe String' wordt aangeduid. Reden: als de gezochte letter 'a' niet in de Dict voorkomt weet elm niet welke String terug te geven. Om zeker te weten dat er een String terugkomt is er een manier bedacht om zelf een String mee te geven die gebruikt wordt in een dergelijk geval dat er geen logisch antwoord bestaat. Zoek eens op Dict.get withDefault in de documentatie of op internet.  "
   ]
  },
  {
   "cell_type": "markdown",
   "metadata": {},
   "source": [
    "## Challenge Morse (1)"
   ]
  },
  {
   "cell_type": "markdown",
   "metadata": {},
   "source": [
    "Nu zou het mooi zijn als we een heel woord (of een hele zin) kunnen vertalen naar Morse. Schrijf hier zelf een functie voor. Gebruik hiervoor de manier om 1 Char te vertalen zoals hierboven gebruikt, gecombineerd met de functie 'String.toList' die de te vertalen String in een List van Chars omzet. Je zult ook de functies 'List.head' en 'List.tail' willen gebruiken (zie het hoofdstuk over Lists in elm). "
   ]
  },
  {
   "cell_type": "code",
   "execution_count": null,
   "metadata": {},
   "outputs": [],
   "source": [
    "toMorse = "
   ]
  },
  {
   "cell_type": "code",
   "execution_count": null,
   "metadata": {},
   "outputs": [],
   "source": [
    "toMorse \"bloemkool\""
   ]
  },
  {
   "cell_type": "markdown",
   "metadata": {},
   "source": [
    "## Challenge Morse (2) (moeilijk)"
   ]
  },
  {
   "cell_type": "markdown",
   "metadata": {},
   "source": [
    "Een extra uitdaging is het om een functie te schrijven die een gecodeerde Morse string (bijvoorbeeld: \". .-.. -- .. ... ..-. ..- -.\", dus met spaties na elke letter-code) terug kan vertalen naar tekst. "
   ]
  },
  {
   "cell_type": "markdown",
   "metadata": {},
   "source": [
    "## Tuples"
   ]
  },
  {
   "cell_type": "markdown",
   "metadata": {},
   "source": [
    "Een functie die meerdere parameters krijgt hebben we al een paar maal gezien, maar tot nu toe kwam er altijd maar 1 waarde uit. In `elm` kan een `function` ook meerdere waarden tegelijk teruggeven. Dit heet dan een `tuple` (een Engels woord, maar je kunt het op z'n Nederlands uitspreken als `tupel`). Een `tuple` wordt geschreven als meerdere waarden met komma's ertussen en haakjes er omheen: `(a,b,c)`. Een functie die 2 parameters krijgt en zowel de som (optelling) als het product (de vermenigvuldiging) van de 2 moet teruggeven kan er als volgt uitzien: \n",
    "\n",
    "somEnProduct x y = ( x + y , x * y ) \n",
    "\n",
    "somEnProduct 3 4"
   ]
  },
  {
   "cell_type": "code",
   "execution_count": null,
   "metadata": {},
   "outputs": [],
   "source": []
  },
  {
   "cell_type": "code",
   "execution_count": null,
   "metadata": {},
   "outputs": [],
   "source": []
  },
  {
   "cell_type": "markdown",
   "metadata": {},
   "source": [
    "## Leonardo Pisano"
   ]
  },
  {
   "cell_type": "markdown",
   "metadata": {},
   "source": [
    "Deze naam wel eens gehoord? Zoek er eens op met je favoriete zoek-engine. Je hebt al eerder van deze persoon gehoord onder een andere naam! \n",
    "We gaan de getallenrij van deze meneer realiseren in `elm` met behulp van de function `fibo`. Een eerder genoemde methode was iets als: \n",
    "\n",
    "fibo n = if n <= 2 then n - 1 else (fibo(n-1) + fibo(n-2)) "
   ]
  },
  {
   "cell_type": "code",
   "execution_count": null,
   "metadata": {},
   "outputs": [],
   "source": []
  },
  {
   "cell_type": "markdown",
   "metadata": {},
   "source": [
    "Hoeveel is fibo 5? En fibo 6, fibo 7, fibo 8 en fibo 9?"
   ]
  },
  {
   "cell_type": "code",
   "execution_count": null,
   "metadata": {},
   "outputs": [],
   "source": []
  },
  {
   "cell_type": "code",
   "execution_count": null,
   "metadata": {},
   "outputs": [],
   "source": []
  },
  {
   "cell_type": "code",
   "execution_count": null,
   "metadata": {},
   "outputs": [],
   "source": []
  },
  {
   "cell_type": "code",
   "execution_count": null,
   "metadata": {},
   "outputs": [],
   "source": []
  },
  {
   "cell_type": "code",
   "execution_count": null,
   "metadata": {},
   "outputs": [],
   "source": []
  },
  {
   "cell_type": "markdown",
   "metadata": {},
   "source": [
    "## Leonardo Pisano Advanced"
   ]
  },
  {
   "cell_type": "markdown",
   "metadata": {},
   "source": [
    "Bovengenoemde functie `fibo` is wel een elegante definitie maar niet zo'n efficiënte methode van berekening omdat er namelijk veel getallen dubbel berekend worden! Met behulp van tuples kunnen we dat efficiënter maken: \n",
    "Bekijk het tuple `( fibo(n-1) , fibo(n) )` en neem de definitie erbij zie je dat je dit mag schrijven als: \n",
    "`( fibo(n-1) , fibo(n-1)+fibo(n-2) )`, waaruit volgt (misschien zie je het nog niet direct!): \n",
    "als ik een tuple heb met 2 op elkaar volgende (maar verder vrij willekeurig gekozen) fibo-getallen `( fibo(82) , fibo(83) )` kan ik het 'daaropvolgende' fibo-paar berekenen met behulp van: "
   ]
  },
  {
   "cell_type": "markdown",
   "metadata": {},
   "source": [
    "`( fibo(83) , fibo(84) )` is gelijk aan: \n",
    "`( fibo(83) , fibo(82)+fibo(83) )` "
   ]
  },
  {
   "cell_type": "markdown",
   "metadata": {},
   "source": [
    "wat we algemener kunnen opschrijven als: stel we weten dat `( fibo(m-1), fibo(m) )` de waarden `( a , b )` bevat, dan bevat het daarop volgende fibo-tuple `( fibo(m), fibo(m+1) )` de waarden `( a , a+b )`. \n",
    "\n",
    "Beginnen we met het eerste fibo-paar `(0,1)` \n",
    "\n",
    "dan is het 2e `(1,1+0)` ofwel `(1,1)`,\n",
    "\n",
    "het 3e is `(1,1+1)` ofwel `(1,2)`,\n",
    "\n",
    "het 4e is `(2,2+1)` ofwel `(2,3)`,\n",
    "\n",
    "het 5e is `(3,3+2)` ofwel `(3,5)`,\n",
    "\n",
    "het 6e is `(5,5+3)` ofwel `(5,8)`,\n",
    "\n",
    "het 7e is `(8,8+5)` ofwel `(8,13)`.\n",
    "\n",
    "Ik kan fibo(n) berekenen door het goede element van het tuple `( fibo(n-1) , fibo(n) , n )` eruit te nemen. \n",
    "Op [wikipedia over functional programming](https://en.wikipedia.org/wiki/Functional_programming) kun je de volgende efficiënte oplossing in functionele programmeertaal `SequenceL` lezen: "
   ]
  },
  {
   "cell_type": "markdown",
   "metadata": {},
   "source": [
    "`fib(n) := fib_Helper(0, 1, n);`\n",
    "\n",
    "`fib_Helper(prev, next, n) := `\n",
    "\n",
    "`  prev when n < 1 else `\n",
    "\n",
    "`  next when n = 1 else `\n",
    "\n",
    "`  fib_Helper(next, next + prev, n - 1); `"
   ]
  },
  {
   "cell_type": "markdown",
   "metadata": {},
   "source": [
    "Als we dit in elm-notatie opschrijven krijgen we iets als: \n",
    "\n",
    "fiboHelper (prev,next,n) = if n < 1 then prev else if n == 1 then next else fiboHelper(next,next+prev,n-1)"
   ]
  },
  {
   "cell_type": "code",
   "execution_count": null,
   "metadata": {},
   "outputs": [],
   "source": []
  },
  {
   "cell_type": "markdown",
   "metadata": {},
   "source": [
    "En: \n",
    "fibo n = fiboHelper(0,1,n) "
   ]
  },
  {
   "cell_type": "code",
   "execution_count": null,
   "metadata": {},
   "outputs": [],
   "source": []
  },
  {
   "cell_type": "markdown",
   "metadata": {},
   "source": [
    "## Challenge Morse (3) (advanced)"
   ]
  },
  {
   "cell_type": "markdown",
   "metadata": {},
   "source": [
    "Mocht je Morse (2) met veel plezier hebben gedaan dan kun je zelfs een manier bedenken om bij een String als \".-...-.--.-..-..-...-...-..--.\" (alle punten en strepen achter elkaar geplakt) álle mogelijke vertalingen terug te geven. Tip: gebruik tuples. "
   ]
  },
  {
   "cell_type": "code",
   "execution_count": null,
   "metadata": {},
   "outputs": [],
   "source": []
  }
 ],
 "metadata": {
  "kernelspec": {
   "display_name": "Elm REPL",
   "language": "",
   "name": "defbu_elm_repl_kernel"
  },
  "language_info": {
   "codemirror_mode": "elm",
   "file_extension": ".elm",
   "mimetype": "text/x-elm",
   "name": "elm"
  }
 },
 "nbformat": 4,
 "nbformat_minor": 2
}
