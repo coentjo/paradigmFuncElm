{
 "cells": [
  {
   "cell_type": "markdown",
   "metadata": {},
   "source": [
    "De 'foldl'-uitdaging"
   ]
  },
  {
   "cell_type": "code",
   "execution_count": null,
   "metadata": {},
   "outputs": [],
   "source": [
    "List.foldl (+) 0 (List.map (\\x -> x * x) [3,4])"
   ]
  },
  {
   "cell_type": "markdown",
   "metadata": {},
   "source": [
    "Mogelijke oplossing voor Binomium:"
   ]
  },
  {
   "cell_type": "code",
   "execution_count": null,
   "metadata": {},
   "outputs": [],
   "source": [
    "fac n = if (n == 0) then 1 else (n * (fac (n-1)))"
   ]
  },
  {
   "cell_type": "code",
   "execution_count": null,
   "metadata": {},
   "outputs": [],
   "source": [
    "bin n k = (fac n) // ((fac (n - k)) * (fac k))"
   ]
  },
  {
   "cell_type": "code",
   "execution_count": null,
   "metadata": {},
   "outputs": [],
   "source": [
    "binL n = List.map (\\x -> (bin n x)) (List.range 0 n)"
   ]
  },
  {
   "cell_type": "code",
   "execution_count": null,
   "metadata": {},
   "outputs": [],
   "source": [
    "binL 6"
   ]
  }
 ],
 "metadata": {
  "kernelspec": {
   "display_name": "Elm REPL",
   "language": "",
   "name": "defbu_elm_repl_kernel"
  },
  "language_info": {
   "codemirror_mode": "elm",
   "file_extension": ".elm",
   "mimetype": "text/x-elm",
   "name": "elm"
  }
 },
 "nbformat": 4,
 "nbformat_minor": 2
}
