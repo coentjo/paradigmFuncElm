{
 "cells": [
  {
   "cell_type": "markdown",
   "metadata": {},
   "source": [
    "# Mogelijke oplossing voor Challenge Morse (1)\n",
    "Let op dat in deze oplossing gewerkt wordt met de conversie tussen Strings en Chars: "
   ]
  },
  {
   "cell_type": "code",
   "execution_count": null,
   "metadata": {},
   "outputs": [],
   "source": [
    "morseChar c = Maybe.withDefault \"\"\"\" (Dict.get c morseAlfabet)"
   ]
  },
  {
   "cell_type": "code",
   "execution_count": null,
   "metadata": {},
   "outputs": [],
   "source": [
    "morse list= \\\n",
    "case list of \\\n",
    "[] -> \"\" \\\n",
    "elt :: restOfList -> ( morseChar elt ++ \" \" ++ (morse restOfList ) )"
   ]
  },
  {
   "cell_type": "code",
   "execution_count": null,
   "metadata": {},
   "outputs": [],
   "source": [
    "morse (String.toList \"abcelm\")"
   ]
  },
  {
   "cell_type": "markdown",
   "metadata": {},
   "source": [
    "# Mogelijke oplossing voor Challenge Morse (2)"
   ]
  },
  {
   "cell_type": "code",
   "execution_count": null,
   "metadata": {},
   "outputs": [],
   "source": [
    "convertMorseToList xs1 t xs2 = \\\n",
    "case xs1 of \\\n",
    "[] -> List.reverse (t :: xs2) \\\n",
    "x::xs -> if (x == ' ') then convertMorseToList xs \"\" (t :: xs2 ) else convertM\n",
    "orseToList xs (t ++ (String.fromChar x)) xs2"
   ]
  },
  {
   "cell_type": "code",
   "execution_count": null,
   "metadata": {},
   "outputs": [],
   "source": [
    "morse = convertMorseToList (String.toList \". .-.. -- .. ... ..-. ..- -.\") \"\" []"
   ]
  },
  {
   "cell_type": "code",
   "execution_count": null,
   "metadata": {},
   "outputs": [],
   "source": [
    "morseAlfaList = Dict.toList morseAlfabet"
   ]
  },
  {
   "cell_type": "code",
   "execution_count": null,
   "metadata": {},
   "outputs": [],
   "source": [
    "swapAlfaList listOld listNew = \\\n",
    "case listOld of \\\n",
    "[] -> Dict.fromList listNew \\\n",
    "x::xs -> swapAlfaList xs ((Tuple.second x, Tuple.first x) :: listNew)"
   ]
  },
  {
   "cell_type": "code",
   "execution_count": null,
   "metadata": {},
   "outputs": [],
   "source": [
    "morseTextAlfabet = swapAlfaList morseAlfaList []"
   ]
  },
  {
   "cell_type": "code",
   "execution_count": null,
   "metadata": {},
   "outputs": [],
   "source": [
    "morseT c = Maybe.withDefault ' ' (Dict.get c morseTextAlfabet)"
   ]
  },
  {
   "cell_type": "code",
   "execution_count": null,
   "metadata": {},
   "outputs": [],
   "source": [
    "morseText list= \\\n",
    "case list of \\\n",
    "[] -> \"\" \\\n",
    "x :: xs -> ( String.fromChar (morseT x) ++ \" \" ++ (morseText xs ) )"
   ]
  },
  {
   "cell_type": "code",
   "execution_count": null,
   "metadata": {},
   "outputs": [],
   "source": [
    "morseText morse"
   ]
  },
  {
   "cell_type": "code",
   "execution_count": null,
   "metadata": {},
   "outputs": [],
   "source": [
    "morseText2 list = List.foldr (++) \"\" (List.map String.fromChar (List.map morseT\n",
    "list))"
   ]
  },
  {
   "cell_type": "code",
   "execution_count": null,
   "metadata": {},
   "outputs": [],
   "source": [
    "morseText2 morse"
   ]
  },
  {
   "cell_type": "markdown",
   "metadata": {},
   "source": [
    "# Mogelijke oplossing voor Challenge Morse (3)"
   ]
  },
  {
   "cell_type": "markdown",
   "metadata": {},
   "source": [
    "1. Maak een functie die controleert of een combinatie van tekens een geldige morse optie is.\n",
    "2. Maak een functie die een lijst met alle mogelijkheden maakt\n",
    "3. Maak een functie die van een mogelijkheid bepaald of deze kan of niet kan\n",
    "4. Maak een functie die lijst met morse kan omzetten naar text\n",
    "5. Pas deze functie toe op alle geldige mogelijkheden"
   ]
  },
  {
   "cell_type": "code",
   "execution_count": null,
   "metadata": {},
   "outputs": [],
   "source": [
    "checkMorse s = \\\n",
    "case (Dict.get s morseTextAlfabet) of \\\n",
    "Nothing -> False \\\n",
    "_ -> True"
   ]
  },
  {
   "cell_type": "code",
   "execution_count": null,
   "metadata": {},
   "outputs": [],
   "source": [
    "possible textList part list result = \\\n",
    "case textList of \\\n",
    "[] -> if part == \"\" then result else (List.reverse (part :: list)) :: result\n",
    "\\\n",
    "x::xs -> List.append (possible xs \"\" ((part ++ (String.fromChar x)) :: list)\n",
    "result) (possible xs (part ++ (String.fromChar x)) list result)"
   ]
  },
  {
   "cell_type": "code",
   "execution_count": null,
   "metadata": {},
   "outputs": [],
   "source": [
    "mogelijkheden = possible (String.toList \"...-...-\") \"\" [] []"
   ]
  },
  {
   "cell_type": "code",
   "execution_count": null,
   "metadata": {},
   "outputs": [],
   "source": [
    "morseText3 list= \\\n",
    "case list of \\\n",
    "[] -> \"\" \\\n",
    "x :: xs -> ( String.fromChar (morseT x) ++ (morseText2 xs ) )"
   ]
  },
  {
   "cell_type": "markdown",
   "metadata": {},
   "source": [
    "## alternatief 1"
   ]
  },
  {
   "cell_type": "code",
   "execution_count": null,
   "metadata": {},
   "outputs": [],
   "source": [
    "checkMorseArray list = \\\n",
    "if List.foldr (&&) True (List.map checkMorse list) then True else False"
   ]
  },
  {
   "cell_type": "code",
   "execution_count": null,
   "metadata": {},
   "outputs": [],
   "source": [
    "(List.map morseText3 (List.filter checkMorseArray mogelijkheden))"
   ]
  },
  {
   "cell_type": "markdown",
   "metadata": {},
   "source": [
    "## alternatief 2"
   ]
  },
  {
   "cell_type": "code",
   "execution_count": null,
   "metadata": {},
   "outputs": [],
   "source": [
    "checkMorseArray2 list = List.all checkMorse list"
   ]
  },
  {
   "cell_type": "code",
   "execution_count": null,
   "metadata": {},
   "outputs": [],
   "source": [
    "(List.map morseText3 (List.filter checkMorseArray2 mogelijkheden))"
   ]
  }
 ],
 "metadata": {
  "kernelspec": {
   "display_name": "Elm REPL",
   "language": "",
   "name": "defbu_elm_repl_kernel"
  },
  "language_info": {
   "codemirror_mode": "elm",
   "file_extension": ".elm",
   "mimetype": "text/x-elm",
   "name": "elm"
  }
 },
 "nbformat": 4,
 "nbformat_minor": 2
}
